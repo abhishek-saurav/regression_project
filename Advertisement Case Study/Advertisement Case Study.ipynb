{
 "cells": [
  {
   "cell_type": "markdown",
   "id": "e5d12c2f",
   "metadata": {},
   "source": [
    "## Problem Statament \n",
    "\n",
    "You are working as a Marketing Manager in a company and you want to increase the spends on advertisement in order to increase the sales. You want to find the most optimal way to increase the sales. So you want the team to find which modes is the best for advertisment. "
   ]
  },
  {
   "cell_type": "markdown",
   "id": "08818a46",
   "metadata": {},
   "source": [
    "### Importing Libararies "
   ]
  },
  {
   "cell_type": "code",
   "execution_count": 1,
   "id": "4ecbbcf2",
   "metadata": {},
   "outputs": [
    {
     "data": {
      "text/html": [
       "<style>.container {width: 90% !important}</style>"
      ],
      "text/plain": [
       "<IPython.core.display.HTML object>"
      ]
     },
     "metadata": {},
     "output_type": "display_data"
    }
   ],
   "source": [
    "import numpy as np\n",
    "import pandas as pd\n",
    "import matplotlib.pyplot as plt\n",
    "import seaborn as sns\n",
    "import warnings \n",
    "warnings.filterwarnings('ignore')\n",
    "\n",
    "from IPython.core.display import display, HTML\n",
    "display(HTML(\"<style>.container {width: 90% !important}</style>\"))\n",
    "\n",
    "from sklearn.model_selection import train_test_split\n",
    "from sklearn.preprocessing import MinMaxScaler\n",
    "import statsmodels.api as sm\n",
    "from statsmodels.stats.outliers_influence import variance_inflation_factor"
   ]
  },
  {
   "cell_type": "markdown",
   "id": "91e90b46",
   "metadata": {},
   "source": [
    "### Data Acquisiton and Description"
   ]
  },
  {
   "cell_type": "code",
   "execution_count": 2,
   "id": "238bb6e0",
   "metadata": {},
   "outputs": [],
   "source": [
    "advertisement = pd.read_csv(\"advertising (2).csv\")"
   ]
  },
  {
   "cell_type": "markdown",
   "id": "0f97ce7c",
   "metadata": {},
   "source": [
    "### Data Pre - Profiling"
   ]
  },
  {
   "cell_type": "code",
   "execution_count": 3,
   "id": "c444b655",
   "metadata": {},
   "outputs": [
    {
     "data": {
      "text/plain": [
       "(200, 4)"
      ]
     },
     "execution_count": 3,
     "metadata": {},
     "output_type": "execute_result"
    }
   ],
   "source": [
    "advertisement.shape"
   ]
  },
  {
   "cell_type": "markdown",
   "id": "7fab1ea6",
   "metadata": {},
   "source": [
    "- Dataset has 200 rows and 4 columns"
   ]
  },
  {
   "cell_type": "code",
   "execution_count": 4,
   "id": "e35c59bf",
   "metadata": {},
   "outputs": [
    {
     "data": {
      "text/html": [
       "<div>\n",
       "<style scoped>\n",
       "    .dataframe tbody tr th:only-of-type {\n",
       "        vertical-align: middle;\n",
       "    }\n",
       "\n",
       "    .dataframe tbody tr th {\n",
       "        vertical-align: top;\n",
       "    }\n",
       "\n",
       "    .dataframe thead th {\n",
       "        text-align: right;\n",
       "    }\n",
       "</style>\n",
       "<table border=\"1\" class=\"dataframe\">\n",
       "  <thead>\n",
       "    <tr style=\"text-align: right;\">\n",
       "      <th></th>\n",
       "      <th>TV</th>\n",
       "      <th>Radio</th>\n",
       "      <th>Newspaper</th>\n",
       "      <th>Sales</th>\n",
       "    </tr>\n",
       "  </thead>\n",
       "  <tbody>\n",
       "    <tr>\n",
       "      <th>0</th>\n",
       "      <td>230.1</td>\n",
       "      <td>37.8</td>\n",
       "      <td>69.2</td>\n",
       "      <td>22.1</td>\n",
       "    </tr>\n",
       "    <tr>\n",
       "      <th>1</th>\n",
       "      <td>44.5</td>\n",
       "      <td>39.3</td>\n",
       "      <td>45.1</td>\n",
       "      <td>10.4</td>\n",
       "    </tr>\n",
       "    <tr>\n",
       "      <th>2</th>\n",
       "      <td>17.2</td>\n",
       "      <td>45.9</td>\n",
       "      <td>69.3</td>\n",
       "      <td>9.3</td>\n",
       "    </tr>\n",
       "    <tr>\n",
       "      <th>3</th>\n",
       "      <td>151.5</td>\n",
       "      <td>41.3</td>\n",
       "      <td>58.5</td>\n",
       "      <td>18.5</td>\n",
       "    </tr>\n",
       "    <tr>\n",
       "      <th>4</th>\n",
       "      <td>180.8</td>\n",
       "      <td>10.8</td>\n",
       "      <td>58.4</td>\n",
       "      <td>12.9</td>\n",
       "    </tr>\n",
       "  </tbody>\n",
       "</table>\n",
       "</div>"
      ],
      "text/plain": [
       "      TV  Radio  Newspaper  Sales\n",
       "0  230.1   37.8       69.2   22.1\n",
       "1   44.5   39.3       45.1   10.4\n",
       "2   17.2   45.9       69.3    9.3\n",
       "3  151.5   41.3       58.5   18.5\n",
       "4  180.8   10.8       58.4   12.9"
      ]
     },
     "execution_count": 4,
     "metadata": {},
     "output_type": "execute_result"
    }
   ],
   "source": [
    "advertisement.head()"
   ]
  },
  {
   "cell_type": "markdown",
   "id": "8eda96d4",
   "metadata": {},
   "source": [
    "- Dataset has 4 columsn; TV, Radio, Newspaper and Sales. \n",
    "- Here, TV, Radio, Newspaper are the predictor variable & Sales is the outcome variable. \n",
    "- This dataset shows the amounts spend on the advertisment on different modes with the respective sales. \n",
    "- we can see here that amount spends for the advertisment on TV is relatively on the higher side with respect the amount spends on Radio and Newspaper. \n",
    "- This is possible maybe because ads on TV are expensive then the latters. "
   ]
  },
  {
   "cell_type": "code",
   "execution_count": 5,
   "id": "816c4175",
   "metadata": {},
   "outputs": [
    {
     "data": {
      "text/html": [
       "<div>\n",
       "<style scoped>\n",
       "    .dataframe tbody tr th:only-of-type {\n",
       "        vertical-align: middle;\n",
       "    }\n",
       "\n",
       "    .dataframe tbody tr th {\n",
       "        vertical-align: top;\n",
       "    }\n",
       "\n",
       "    .dataframe thead th {\n",
       "        text-align: right;\n",
       "    }\n",
       "</style>\n",
       "<table border=\"1\" class=\"dataframe\">\n",
       "  <thead>\n",
       "    <tr style=\"text-align: right;\">\n",
       "      <th></th>\n",
       "      <th>TV</th>\n",
       "      <th>Radio</th>\n",
       "      <th>Newspaper</th>\n",
       "      <th>Sales</th>\n",
       "    </tr>\n",
       "  </thead>\n",
       "  <tbody>\n",
       "    <tr>\n",
       "      <th>count</th>\n",
       "      <td>200.000000</td>\n",
       "      <td>200.000000</td>\n",
       "      <td>200.000000</td>\n",
       "      <td>200.000000</td>\n",
       "    </tr>\n",
       "    <tr>\n",
       "      <th>mean</th>\n",
       "      <td>147.042500</td>\n",
       "      <td>23.264000</td>\n",
       "      <td>30.554000</td>\n",
       "      <td>14.022500</td>\n",
       "    </tr>\n",
       "    <tr>\n",
       "      <th>std</th>\n",
       "      <td>85.854236</td>\n",
       "      <td>14.846809</td>\n",
       "      <td>21.778621</td>\n",
       "      <td>5.217457</td>\n",
       "    </tr>\n",
       "    <tr>\n",
       "      <th>min</th>\n",
       "      <td>0.700000</td>\n",
       "      <td>0.000000</td>\n",
       "      <td>0.300000</td>\n",
       "      <td>1.600000</td>\n",
       "    </tr>\n",
       "    <tr>\n",
       "      <th>25%</th>\n",
       "      <td>74.375000</td>\n",
       "      <td>9.975000</td>\n",
       "      <td>12.750000</td>\n",
       "      <td>10.375000</td>\n",
       "    </tr>\n",
       "    <tr>\n",
       "      <th>50%</th>\n",
       "      <td>149.750000</td>\n",
       "      <td>22.900000</td>\n",
       "      <td>25.750000</td>\n",
       "      <td>12.900000</td>\n",
       "    </tr>\n",
       "    <tr>\n",
       "      <th>75%</th>\n",
       "      <td>218.825000</td>\n",
       "      <td>36.525000</td>\n",
       "      <td>45.100000</td>\n",
       "      <td>17.400000</td>\n",
       "    </tr>\n",
       "    <tr>\n",
       "      <th>max</th>\n",
       "      <td>296.400000</td>\n",
       "      <td>49.600000</td>\n",
       "      <td>114.000000</td>\n",
       "      <td>27.000000</td>\n",
       "    </tr>\n",
       "  </tbody>\n",
       "</table>\n",
       "</div>"
      ],
      "text/plain": [
       "               TV       Radio   Newspaper       Sales\n",
       "count  200.000000  200.000000  200.000000  200.000000\n",
       "mean   147.042500   23.264000   30.554000   14.022500\n",
       "std     85.854236   14.846809   21.778621    5.217457\n",
       "min      0.700000    0.000000    0.300000    1.600000\n",
       "25%     74.375000    9.975000   12.750000   10.375000\n",
       "50%    149.750000   22.900000   25.750000   12.900000\n",
       "75%    218.825000   36.525000   45.100000   17.400000\n",
       "max    296.400000   49.600000  114.000000   27.000000"
      ]
     },
     "execution_count": 5,
     "metadata": {},
     "output_type": "execute_result"
    }
   ],
   "source": [
    "advertisement.describe()"
   ]
  },
  {
   "cell_type": "markdown",
   "id": "079e5968",
   "metadata": {},
   "source": [
    "- In TV, we can see the values are gradually increasing. there is no sudden increase during any phase of the quartiles. Everything seems pretty normal here. \n",
    "- Radio follows the same pattern. \n",
    "- In newspaper we can see there is steep increase in 3rd quartile and the 100% which suggests the presence of outliers. \n",
    "- Sales is also gradually increasing. \n",
    "- Here we can see a pattern between the sales and Tv , we can see that with 25%, 50% and 75% the sales value is also increasing and also when the max amount were spend on sales there was the max sales. so there is a postivie correaltion between the sales and TV"
   ]
  },
  {
   "cell_type": "code",
   "execution_count": 6,
   "id": "a884d821",
   "metadata": {},
   "outputs": [
    {
     "name": "stdout",
     "output_type": "stream",
     "text": [
      "<class 'pandas.core.frame.DataFrame'>\n",
      "RangeIndex: 200 entries, 0 to 199\n",
      "Data columns (total 4 columns):\n",
      " #   Column     Non-Null Count  Dtype  \n",
      "---  ------     --------------  -----  \n",
      " 0   TV         200 non-null    float64\n",
      " 1   Radio      200 non-null    float64\n",
      " 2   Newspaper  200 non-null    float64\n",
      " 3   Sales      200 non-null    float64\n",
      "dtypes: float64(4)\n",
      "memory usage: 6.4 KB\n"
     ]
    }
   ],
   "source": [
    "advertisement.info()"
   ]
  },
  {
   "cell_type": "markdown",
   "id": "3bbcecf7",
   "metadata": {},
   "source": [
    "- There are no missing values. Our dataset is complete and ready for analysis. \n",
    "- All the columns are numerical and continuous data types. \n",
    "- Dataset is comparatively small with only 200 rows and using memory of 6.4kb. "
   ]
  },
  {
   "cell_type": "code",
   "execution_count": 7,
   "id": "e2b55435",
   "metadata": {},
   "outputs": [],
   "source": [
    "advertisement_orginal = advertisement.copy()"
   ]
  },
  {
   "cell_type": "markdown",
   "id": "a783f876",
   "metadata": {},
   "source": [
    "###  Data Pre Processing"
   ]
  },
  {
   "cell_type": "markdown",
   "id": "2aa23dc2",
   "metadata": {},
   "source": [
    "- This section is emphasized on performing data manipulation over unstructured data for furthur processing and analysis.\n",
    "- To modify unstructured data to the structured data we will verify and manipulate the integrety of the data by\n",
    "    - Data Handling Outliers"
   ]
  },
  {
   "cell_type": "code",
   "execution_count": 8,
   "id": "8fee5d60",
   "metadata": {},
   "outputs": [
    {
     "data": {
      "image/png": "[encoded data removed]",
      "text/plain": [
       "<Figure size 640x480 with 1 Axes>"
      ]
     },
     "metadata": {},
     "output_type": "display_data"
    }
   ],
   "source": [
    "sns.boxplot(advertisement)\n",
    "plt.title(\"Outlier detection\")\n",
    "plt.show()"
   ]
  },
  {
   "cell_type": "code",
   "execution_count": 9,
   "id": "b39f87f0",
   "metadata": {},
   "outputs": [],
   "source": [
    "# dealing with outliers \n",
    "q1 = np.quantile(advertisement.Newspaper, 0.25)\n",
    "q3= np.quantile(advertisement.Newspaper, 0.75)\n",
    "IQR = q3 - q1 \n",
    "lower_bound = q1 - (1.5 * IQR)\n",
    "upper_bound = q3 + (1.5 * IQR)\n",
    "advertisement = advertisement[(advertisement.Newspaper>lower_bound) &(advertisement.Newspaper<upper_bound)]"
   ]
  },
  {
   "cell_type": "code",
   "execution_count": 10,
   "id": "a7f83d62",
   "metadata": {},
   "outputs": [
    {
     "data": {
      "image/png": "[encoded data removed]",
      "text/plain": [
       "<Figure size 640x480 with 1 Axes>"
      ]
     },
     "metadata": {},
     "output_type": "display_data"
    }
   ],
   "source": [
    "# verifying the removal of outlier: \n",
    "sns.boxplot(advertisement.Newspaper)\n",
    "plt.show()"
   ]
  },
  {
   "cell_type": "markdown",
   "id": "ad6f9c60",
   "metadata": {},
   "source": [
    "- This plot verifies that there is some outliers in the Newspaper. \n",
    "- Not a lot of outliers are present in the Newspaper column and maybe it is possible that at that one or two times they spend more money to increase the sales. "
   ]
  },
  {
   "cell_type": "markdown",
   "id": "a83bf303",
   "metadata": {},
   "source": [
    "### Exploratory Data Analysis"
   ]
  },
  {
   "cell_type": "code",
   "execution_count": 11,
   "id": "02b5bfa9",
   "metadata": {},
   "outputs": [
    {
     "data": {
      "image/png": "[encoded data removed]",
      "text/plain": [
       "<Figure size 1000x1000 with 20 Axes>"
      ]
     },
     "metadata": {},
     "output_type": "display_data"
    }
   ],
   "source": [
    "# plotting the pairplot to see if there is any correlation between the variables. \n",
    "# Linearity Check \n",
    "sns.pairplot(advertisement)\n",
    "plt.show()"
   ]
  },
  {
   "cell_type": "markdown",
   "id": "0a298b15",
   "metadata": {},
   "source": [
    "- It is observed that there is substantial correlation between the TV advertisement spend and Sales, which aligns with my initial hypothesis. \n",
    "- It appears to be there is a linear relationship between the Sales and TV advertisement spends. \n",
    "- Radio spends shows moderate positive correlation with the sales. \n",
    "- Newspaper exhibits minimal to negligible correlation with Sales. \n",
    "- Primarily, visual analysis did not indicated the Multicollinearity but we have to to check the heatmap for that. "
   ]
  },
  {
   "cell_type": "code",
   "execution_count": 12,
   "id": "9373df28",
   "metadata": {},
   "outputs": [
    {
     "data": {
      "image/png": "[encoded data removed]",
      "text/plain": [
       "<Figure size 1200x800 with 2 Axes>"
      ]
     },
     "metadata": {},
     "output_type": "display_data"
    }
   ],
   "source": [
    "# plotting heatmap\n",
    "plt.figure(figsize = (12, 8))\n",
    "sns.heatmap(advertisement.corr(), annot = True, cmap = 'YlGnBu')\n",
    "plt.title(\"Correlation Heat Map\")\n",
    "plt.show()"
   ]
  },
  {
   "cell_type": "markdown",
   "id": "bad3d0cc",
   "metadata": {},
   "source": [
    "- TV advertisment spends have substantial postive correlation with coefficient of 0.78 with the sales. This aligns with my initial hypothesis. \n",
    "- Radio spends has moderate positive correlation coefficient of 0.58.\n",
    "- Newspaper spends have minimal correlation coefficients of 0.23.\n",
    "- There's minimal to negligible correlation present between the TV advertisement and other predictor variable. \n",
    "    - Their correlation coefficients are as follows: \n",
    "        - TV advertisement spends with Newspaper advertisement spends - 0.057\n",
    "        - TV advertisement spends with Radio advertisment spends - 0.055\n",
    "- There is moderate to minimal correlation present between the Newspaper and Radio with correlation coefficient 0.35"
   ]
  },
  {
   "cell_type": "markdown",
   "id": "f2333f63",
   "metadata": {},
   "source": [
    "### Splitting the data into training & test sets"
   ]
  },
  {
   "cell_type": "code",
   "execution_count": 13,
   "id": "4cef7190",
   "metadata": {},
   "outputs": [],
   "source": [
    "# dividing the predictor variables and the outcome variable\n",
    "X = advertisement[['TV', 'Radio', 'Newspaper']]\n",
    "y = advertisement[['Sales']]"
   ]
  },
  {
   "cell_type": "code",
   "execution_count": 14,
   "id": "d85ff400",
   "metadata": {},
   "outputs": [
    {
     "name": "stdout",
     "output_type": "stream",
     "text": [
      "Dimension of X: (198, 3)\n",
      "Dimension of y: (198, 1)\n"
     ]
    }
   ],
   "source": [
    "print(\"Dimension of X: {}\".format(X.shape))\n",
    "print(\"Dimension of y: {}\".format(y.shape))"
   ]
  },
  {
   "cell_type": "markdown",
   "id": "f13b906c",
   "metadata": {},
   "source": [
    "- There are 3 predictor variables in X. \n",
    "- There is one outcome variable in y. \n",
    "- Now, the data is ready to be splitted into the training & test sets to build our model. "
   ]
  },
  {
   "cell_type": "code",
   "execution_count": 15,
   "id": "45b7fd98",
   "metadata": {},
   "outputs": [],
   "source": [
    "# splitting the data into the training & test sets with 70:30 ratio\n",
    "X_train, X_test, y_train, y_test = train_test_split(X, y, train_size= 0.7, random_state= 100)"
   ]
  },
  {
   "cell_type": "code",
   "execution_count": 16,
   "id": "c4f35220",
   "metadata": {},
   "outputs": [],
   "source": [
    "X_train = X_train.reset_index(drop=True)\n",
    "y_train = y_train.reset_index(drop=True)\n"
   ]
  },
  {
   "cell_type": "code",
   "execution_count": 17,
   "id": "d977c251",
   "metadata": {},
   "outputs": [
    {
     "name": "stdout",
     "output_type": "stream",
     "text": [
      "Dimension of X_train: (138, 3)\n",
      "Dimension of X_test: (60, 3)\n",
      "Dimension of y_train: (138, 1)\n",
      "Dimension of y_test: (60, 1)\n"
     ]
    }
   ],
   "source": [
    "print(\"Dimension of X_train: {}\".format(X_train.shape))\n",
    "print(\"Dimension of X_test: {}\".format(X_test.shape))\n",
    "print(\"Dimension of y_train: {}\".format(y_train.shape))\n",
    "print(\"Dimension of y_test: {}\".format(y_test.shape))"
   ]
  },
  {
   "cell_type": "markdown",
   "id": "ad678cf9",
   "metadata": {},
   "source": [
    "- The dataset has been successfully partitioned into the training & test sets with the ratio of 70:30. \n",
    "- The training set, X_train has 140 records with 3 features. This will be used to build our model. \n",
    "- The test set , X_test has 60 records with 3 features, this will be used to validate our model performance. \n",
    "- Similarly the outcome variable are partitioned into y_train & y test. \n",
    "- random state has been set to 100 to get the exact same results when needed. \n",
    "- Next, we will rescale the feautres as the TV advertisement has higher numbers as compared to other variables which can lead to higher coefficient. \n",
    "- after that we will start building our model using stepwise method, i.e we will take one variable at a time and then add other variable and if that makes our model good then proceed with the same process else we drop it and add another. We will repeat this process unless we get the best model with good R squared value & adjusted R squared value"
   ]
  },
  {
   "cell_type": "markdown",
   "id": "2edf1197",
   "metadata": {},
   "source": [
    "### Rescaling "
   ]
  },
  {
   "cell_type": "code",
   "execution_count": 18,
   "id": "64a9d4ce",
   "metadata": {},
   "outputs": [],
   "source": [
    "y_train = y_train = np.array(y_train).flatten()\n"
   ]
  },
  {
   "cell_type": "code",
   "execution_count": 19,
   "id": "699aca0e",
   "metadata": {},
   "outputs": [],
   "source": [
    "# Rescaling the features to make them on the same scale. First we are doing this on the training set\n",
    "\n",
    "scaler = MinMaxScaler()\n",
    "X_train_scaled = pd.DataFrame(scaler.fit_transform(X_train), columns= X_train.columns)\n"
   ]
  },
  {
   "cell_type": "code",
   "execution_count": 20,
   "id": "eb36661a",
   "metadata": {},
   "outputs": [
    {
     "data": {
      "text/html": [
       "<div>\n",
       "<style scoped>\n",
       "    .dataframe tbody tr th:only-of-type {\n",
       "        vertical-align: middle;\n",
       "    }\n",
       "\n",
       "    .dataframe tbody tr th {\n",
       "        vertical-align: top;\n",
       "    }\n",
       "\n",
       "    .dataframe thead th {\n",
       "        text-align: right;\n",
       "    }\n",
       "</style>\n",
       "<table border=\"1\" class=\"dataframe\">\n",
       "  <thead>\n",
       "    <tr style=\"text-align: right;\">\n",
       "      <th></th>\n",
       "      <th>TV</th>\n",
       "      <th>Radio</th>\n",
       "      <th>Newspaper</th>\n",
       "    </tr>\n",
       "  </thead>\n",
       "  <tbody>\n",
       "    <tr>\n",
       "      <th>0</th>\n",
       "      <td>0.033874</td>\n",
       "      <td>0.880325</td>\n",
       "      <td>1.000000</td>\n",
       "    </tr>\n",
       "    <tr>\n",
       "      <th>1</th>\n",
       "      <td>0.508821</td>\n",
       "      <td>0.831643</td>\n",
       "      <td>0.650452</td>\n",
       "    </tr>\n",
       "    <tr>\n",
       "      <th>2</th>\n",
       "      <td>0.697601</td>\n",
       "      <td>0.908722</td>\n",
       "      <td>0.210407</td>\n",
       "    </tr>\n",
       "    <tr>\n",
       "      <th>3</th>\n",
       "      <td>0.821454</td>\n",
       "      <td>0.332657</td>\n",
       "      <td>0.247738</td>\n",
       "    </tr>\n",
       "    <tr>\n",
       "      <th>4</th>\n",
       "      <td>0.075159</td>\n",
       "      <td>0.024341</td>\n",
       "      <td>0.361991</td>\n",
       "    </tr>\n",
       "  </tbody>\n",
       "</table>\n",
       "</div>"
      ],
      "text/plain": [
       "         TV     Radio  Newspaper\n",
       "0  0.033874  0.880325   1.000000\n",
       "1  0.508821  0.831643   0.650452\n",
       "2  0.697601  0.908722   0.210407\n",
       "3  0.821454  0.332657   0.247738\n",
       "4  0.075159  0.024341   0.361991"
      ]
     },
     "execution_count": 20,
     "metadata": {},
     "output_type": "execute_result"
    }
   ],
   "source": [
    "X_train_scaled.head()"
   ]
  },
  {
   "cell_type": "code",
   "execution_count": 21,
   "id": "7958dd59",
   "metadata": {
    "scrolled": true
   },
   "outputs": [
    {
     "data": {
      "text/html": [
       "<div>\n",
       "<style scoped>\n",
       "    .dataframe tbody tr th:only-of-type {\n",
       "        vertical-align: middle;\n",
       "    }\n",
       "\n",
       "    .dataframe tbody tr th {\n",
       "        vertical-align: top;\n",
       "    }\n",
       "\n",
       "    .dataframe thead th {\n",
       "        text-align: right;\n",
       "    }\n",
       "</style>\n",
       "<table border=\"1\" class=\"dataframe\">\n",
       "  <thead>\n",
       "    <tr style=\"text-align: right;\">\n",
       "      <th></th>\n",
       "      <th>TV</th>\n",
       "      <th>Radio</th>\n",
       "      <th>Newspaper</th>\n",
       "    </tr>\n",
       "  </thead>\n",
       "  <tbody>\n",
       "    <tr>\n",
       "      <th>count</th>\n",
       "      <td>138.000000</td>\n",
       "      <td>138.000000</td>\n",
       "      <td>138.000000</td>\n",
       "    </tr>\n",
       "    <tr>\n",
       "      <th>mean</th>\n",
       "      <td>0.512463</td>\n",
       "      <td>0.452406</td>\n",
       "      <td>0.349572</td>\n",
       "    </tr>\n",
       "    <tr>\n",
       "      <th>std</th>\n",
       "      <td>0.301906</td>\n",
       "      <td>0.301639</td>\n",
       "      <td>0.234545</td>\n",
       "    </tr>\n",
       "    <tr>\n",
       "      <th>min</th>\n",
       "      <td>0.000000</td>\n",
       "      <td>0.000000</td>\n",
       "      <td>0.000000</td>\n",
       "    </tr>\n",
       "    <tr>\n",
       "      <th>25%</th>\n",
       "      <td>0.252029</td>\n",
       "      <td>0.190162</td>\n",
       "      <td>0.170532</td>\n",
       "    </tr>\n",
       "    <tr>\n",
       "      <th>50%</th>\n",
       "      <td>0.505822</td>\n",
       "      <td>0.430020</td>\n",
       "      <td>0.296946</td>\n",
       "    </tr>\n",
       "    <tr>\n",
       "      <th>75%</th>\n",
       "      <td>0.778052</td>\n",
       "      <td>0.701826</td>\n",
       "      <td>0.507353</td>\n",
       "    </tr>\n",
       "    <tr>\n",
       "      <th>max</th>\n",
       "      <td>1.000000</td>\n",
       "      <td>1.000000</td>\n",
       "      <td>1.000000</td>\n",
       "    </tr>\n",
       "  </tbody>\n",
       "</table>\n",
       "</div>"
      ],
      "text/plain": [
       "               TV       Radio   Newspaper\n",
       "count  138.000000  138.000000  138.000000\n",
       "mean     0.512463    0.452406    0.349572\n",
       "std      0.301906    0.301639    0.234545\n",
       "min      0.000000    0.000000    0.000000\n",
       "25%      0.252029    0.190162    0.170532\n",
       "50%      0.505822    0.430020    0.296946\n",
       "75%      0.778052    0.701826    0.507353\n",
       "max      1.000000    1.000000    1.000000"
      ]
     },
     "execution_count": 21,
     "metadata": {},
     "output_type": "execute_result"
    }
   ],
   "source": [
    "X_train_scaled.describe()"
   ]
  },
  {
   "cell_type": "markdown",
   "id": "21deaf6c",
   "metadata": {},
   "source": [
    "- Now we can see here all the features has been scaled in between 0 to 1. \n",
    "- With all the features all the same scale now, our data is ready for modelling. "
   ]
  },
  {
   "cell_type": "markdown",
   "id": "33a88846",
   "metadata": {},
   "source": [
    "### Building a Linear Model"
   ]
  },
  {
   "cell_type": "code",
   "execution_count": 22,
   "id": "0d35d738",
   "metadata": {},
   "outputs": [],
   "source": [
    "# as we are building a model using a stepwise forward technique. we will first build our model using only TV"
   ]
  },
  {
   "cell_type": "code",
   "execution_count": 23,
   "id": "f5d92402",
   "metadata": {},
   "outputs": [
    {
     "data": {
      "text/html": [
       "<div>\n",
       "<style scoped>\n",
       "    .dataframe tbody tr th:only-of-type {\n",
       "        vertical-align: middle;\n",
       "    }\n",
       "\n",
       "    .dataframe tbody tr th {\n",
       "        vertical-align: top;\n",
       "    }\n",
       "\n",
       "    .dataframe thead th {\n",
       "        text-align: right;\n",
       "    }\n",
       "</style>\n",
       "<table border=\"1\" class=\"dataframe\">\n",
       "  <thead>\n",
       "    <tr style=\"text-align: right;\">\n",
       "      <th></th>\n",
       "      <th>const</th>\n",
       "      <th>TV</th>\n",
       "    </tr>\n",
       "  </thead>\n",
       "  <tbody>\n",
       "    <tr>\n",
       "      <th>0</th>\n",
       "      <td>1.0</td>\n",
       "      <td>0.033874</td>\n",
       "    </tr>\n",
       "    <tr>\n",
       "      <th>1</th>\n",
       "      <td>1.0</td>\n",
       "      <td>0.508821</td>\n",
       "    </tr>\n",
       "    <tr>\n",
       "      <th>2</th>\n",
       "      <td>1.0</td>\n",
       "      <td>0.697601</td>\n",
       "    </tr>\n",
       "    <tr>\n",
       "      <th>3</th>\n",
       "      <td>1.0</td>\n",
       "      <td>0.821454</td>\n",
       "    </tr>\n",
       "    <tr>\n",
       "      <th>4</th>\n",
       "      <td>1.0</td>\n",
       "      <td>0.075159</td>\n",
       "    </tr>\n",
       "    <tr>\n",
       "      <th>...</th>\n",
       "      <td>...</td>\n",
       "      <td>...</td>\n",
       "    </tr>\n",
       "    <tr>\n",
       "      <th>133</th>\n",
       "      <td>1.0</td>\n",
       "      <td>0.285815</td>\n",
       "    </tr>\n",
       "    <tr>\n",
       "      <th>134</th>\n",
       "      <td>1.0</td>\n",
       "      <td>0.460833</td>\n",
       "    </tr>\n",
       "    <tr>\n",
       "      <th>135</th>\n",
       "      <td>1.0</td>\n",
       "      <td>0.811927</td>\n",
       "    </tr>\n",
       "    <tr>\n",
       "      <th>136</th>\n",
       "      <td>1.0</td>\n",
       "      <td>0.901905</td>\n",
       "    </tr>\n",
       "    <tr>\n",
       "      <th>137</th>\n",
       "      <td>1.0</td>\n",
       "      <td>0.004587</td>\n",
       "    </tr>\n",
       "  </tbody>\n",
       "</table>\n",
       "<p>138 rows × 2 columns</p>\n",
       "</div>"
      ],
      "text/plain": [
       "     const        TV\n",
       "0      1.0  0.033874\n",
       "1      1.0  0.508821\n",
       "2      1.0  0.697601\n",
       "3      1.0  0.821454\n",
       "4      1.0  0.075159\n",
       "..     ...       ...\n",
       "133    1.0  0.285815\n",
       "134    1.0  0.460833\n",
       "135    1.0  0.811927\n",
       "136    1.0  0.901905\n",
       "137    1.0  0.004587\n",
       "\n",
       "[138 rows x 2 columns]"
      ]
     },
     "execution_count": 23,
     "metadata": {},
     "output_type": "execute_result"
    }
   ],
   "source": [
    "# adding constant\n",
    "X_train_1 = X_train_scaled['TV']\n",
    "X_train_sm = sm.add_constant(X_train_1)\n",
    "X_train_sm"
   ]
  },
  {
   "cell_type": "code",
   "execution_count": 24,
   "id": "0bf31dee",
   "metadata": {},
   "outputs": [],
   "source": [
    "# creating the first fitted model\n",
    "lr1 = sm.OLS(y_train, X_train_sm).fit()"
   ]
  },
  {
   "cell_type": "code",
   "execution_count": 25,
   "id": "fec51613",
   "metadata": {},
   "outputs": [
    {
     "name": "stdout",
     "output_type": "stream",
     "text": [
      "const     7.665208\n",
      "TV       12.601859\n",
      "dtype: float64\n"
     ]
    }
   ],
   "source": [
    "#checking the parameters obtained\n",
    "print(lr1.params)"
   ]
  },
  {
   "cell_type": "code",
   "execution_count": 52,
   "id": "c7cb519d",
   "metadata": {},
   "outputs": [
    {
     "data": {
      "image/png": "[encoded data removed]",
      "text/plain": [
       "<Figure size 640x480 with 1 Axes>"
      ]
     },
     "metadata": {},
     "output_type": "display_data"
    }
   ],
   "source": [
    "# visualizing the data with the scatter plot and the fitted regression line\n",
    "plt.scatter(X_train_scaled['TV'], y_train)\n",
    "plt.scatter(X_train_scaled['TV'], 7.665208 + 12.601859*X_train_scaled['TV'])\n",
    "plt.show()"
   ]
  },
  {
   "cell_type": "code",
   "execution_count": 53,
   "id": "adb5060a",
   "metadata": {},
   "outputs": [
    {
     "name": "stdout",
     "output_type": "stream",
     "text": [
      "                            OLS Regression Results                            \n",
      "==============================================================================\n",
      "Dep. Variable:                      y   R-squared:                       0.556\n",
      "Model:                            OLS   Adj. R-squared:                  0.553\n",
      "Method:                 Least Squares   F-statistic:                     170.4\n",
      "Date:                Mon, 18 Mar 2024   Prob (F-statistic):           9.31e-26\n",
      "Time:                        17:32:15   Log-Likelihood:                -364.13\n",
      "No. Observations:                 138   AIC:                             732.3\n",
      "Df Residuals:                     136   BIC:                             738.1\n",
      "Df Model:                           1                                         \n",
      "Covariance Type:            nonrobust                                         \n",
      "==============================================================================\n",
      "                 coef    std err          t      P>|t|      [0.025      0.975]\n",
      "------------------------------------------------------------------------------\n",
      "const          7.6652      0.574     13.363      0.000       6.531       8.800\n",
      "TV            12.6019      0.965     13.055      0.000      10.693      14.511\n",
      "==============================================================================\n",
      "Omnibus:                        0.907   Durbin-Watson:                   1.957\n",
      "Prob(Omnibus):                  0.635   Jarque-Bera (JB):                0.944\n",
      "Skew:                           0.068   Prob(JB):                        0.624\n",
      "Kurtosis:                       2.619   Cond. No.                         4.26\n",
      "==============================================================================\n",
      "\n",
      "Notes:\n",
      "[1] Standard Errors assume that the covariance matrix of the errors is correctly specified.\n"
     ]
    }
   ],
   "source": [
    "# checking the summary of linear regression model obtained\n",
    "print(lr1.summary())"
   ]
  },
  {
   "cell_type": "markdown",
   "id": "21283f76",
   "metadata": {},
   "source": [
    "- R square obtained in 0.613. This means TV is able to capture the 61% variation in the sales. \n",
    "- Adjusted R Squared is 0.611 which is lower than the R Squared which correctly follows its characterstics. \n",
    "- p value is 0.000 for TV which makes it significant. \n",
    "- coefficient of TV is 13.7493 which mean 1 unit increase in the TV is associated with an increase in sales by 13.7493 times. \n",
    "- AIC : 745.2 & BIC: 751.1 this may be not important at this time but it will be used is selecting the final model. "
   ]
  },
  {
   "cell_type": "markdown",
   "id": "f3ddfb6b",
   "metadata": {},
   "source": [
    "#### Adding another Variable"
   ]
  },
  {
   "cell_type": "code",
   "execution_count": 54,
   "id": "e5a03ee4",
   "metadata": {
    "scrolled": true
   },
   "outputs": [
    {
     "data": {
      "text/html": [
       "<div>\n",
       "<style scoped>\n",
       "    .dataframe tbody tr th:only-of-type {\n",
       "        vertical-align: middle;\n",
       "    }\n",
       "\n",
       "    .dataframe tbody tr th {\n",
       "        vertical-align: top;\n",
       "    }\n",
       "\n",
       "    .dataframe thead th {\n",
       "        text-align: right;\n",
       "    }\n",
       "</style>\n",
       "<table border=\"1\" class=\"dataframe\">\n",
       "  <thead>\n",
       "    <tr style=\"text-align: right;\">\n",
       "      <th></th>\n",
       "      <th>TV</th>\n",
       "      <th>Radio</th>\n",
       "      <th>Newspaper</th>\n",
       "      <th>Sales</th>\n",
       "    </tr>\n",
       "  </thead>\n",
       "  <tbody>\n",
       "    <tr>\n",
       "      <th>TV</th>\n",
       "      <td>1.000000</td>\n",
       "      <td>0.051978</td>\n",
       "      <td>0.049771</td>\n",
       "      <td>0.779121</td>\n",
       "    </tr>\n",
       "    <tr>\n",
       "      <th>Radio</th>\n",
       "      <td>0.051978</td>\n",
       "      <td>1.000000</td>\n",
       "      <td>0.346364</td>\n",
       "      <td>0.576748</td>\n",
       "    </tr>\n",
       "    <tr>\n",
       "      <th>Newspaper</th>\n",
       "      <td>0.049771</td>\n",
       "      <td>0.346364</td>\n",
       "      <td>1.000000</td>\n",
       "      <td>0.219555</td>\n",
       "    </tr>\n",
       "    <tr>\n",
       "      <th>Sales</th>\n",
       "      <td>0.779121</td>\n",
       "      <td>0.576748</td>\n",
       "      <td>0.219555</td>\n",
       "      <td>1.000000</td>\n",
       "    </tr>\n",
       "  </tbody>\n",
       "</table>\n",
       "</div>"
      ],
      "text/plain": [
       "                 TV     Radio  Newspaper     Sales\n",
       "TV         1.000000  0.051978   0.049771  0.779121\n",
       "Radio      0.051978  1.000000   0.346364  0.576748\n",
       "Newspaper  0.049771  0.346364   1.000000  0.219555\n",
       "Sales      0.779121  0.576748   0.219555  1.000000"
      ]
     },
     "execution_count": 54,
     "metadata": {},
     "output_type": "execute_result"
    }
   ],
   "source": [
    "# we will add another variable which has the second highest correlatino with the sales \n",
    "advertisement.corr()"
   ]
  },
  {
   "cell_type": "markdown",
   "id": "71990a2e",
   "metadata": {},
   "source": [
    "- Correlation of Sales with TV: 0.782224\n",
    "- Correlation of Sales with Radio: 0.576223\n",
    "- Correlation of Sales with Newspaper: 0.228299\n",
    "- After TV, Radio has the highest correlation with Sales. \n",
    "- Therefore, we will now add Radio to the model. "
   ]
  },
  {
   "cell_type": "code",
   "execution_count": 55,
   "id": "18abca85",
   "metadata": {},
   "outputs": [
    {
     "data": {
      "text/html": [
       "<div>\n",
       "<style scoped>\n",
       "    .dataframe tbody tr th:only-of-type {\n",
       "        vertical-align: middle;\n",
       "    }\n",
       "\n",
       "    .dataframe tbody tr th {\n",
       "        vertical-align: top;\n",
       "    }\n",
       "\n",
       "    .dataframe thead th {\n",
       "        text-align: right;\n",
       "    }\n",
       "</style>\n",
       "<table border=\"1\" class=\"dataframe\">\n",
       "  <thead>\n",
       "    <tr style=\"text-align: right;\">\n",
       "      <th></th>\n",
       "      <th>const</th>\n",
       "      <th>TV</th>\n",
       "      <th>Radio</th>\n",
       "    </tr>\n",
       "  </thead>\n",
       "  <tbody>\n",
       "    <tr>\n",
       "      <th>0</th>\n",
       "      <td>1.0</td>\n",
       "      <td>0.033874</td>\n",
       "      <td>0.880325</td>\n",
       "    </tr>\n",
       "    <tr>\n",
       "      <th>1</th>\n",
       "      <td>1.0</td>\n",
       "      <td>0.508821</td>\n",
       "      <td>0.831643</td>\n",
       "    </tr>\n",
       "    <tr>\n",
       "      <th>2</th>\n",
       "      <td>1.0</td>\n",
       "      <td>0.697601</td>\n",
       "      <td>0.908722</td>\n",
       "    </tr>\n",
       "    <tr>\n",
       "      <th>3</th>\n",
       "      <td>1.0</td>\n",
       "      <td>0.821454</td>\n",
       "      <td>0.332657</td>\n",
       "    </tr>\n",
       "    <tr>\n",
       "      <th>4</th>\n",
       "      <td>1.0</td>\n",
       "      <td>0.075159</td>\n",
       "      <td>0.024341</td>\n",
       "    </tr>\n",
       "  </tbody>\n",
       "</table>\n",
       "</div>"
      ],
      "text/plain": [
       "   const        TV     Radio\n",
       "0    1.0  0.033874  0.880325\n",
       "1    1.0  0.508821  0.831643\n",
       "2    1.0  0.697601  0.908722\n",
       "3    1.0  0.821454  0.332657\n",
       "4    1.0  0.075159  0.024341"
      ]
     },
     "execution_count": 55,
     "metadata": {},
     "output_type": "execute_result"
    }
   ],
   "source": [
    "#adding constant and the variable \n",
    "X_train_sm1 = sm.add_constant(X_train_scaled[['TV','Radio']])\n",
    "X_train_sm1.head()"
   ]
  },
  {
   "cell_type": "code",
   "execution_count": 56,
   "id": "f9b0ae95",
   "metadata": {},
   "outputs": [],
   "source": [
    "#fitting the model \n",
    "lr2 = sm.OLS(y_train, X_train_sm1).fit()"
   ]
  },
  {
   "cell_type": "code",
   "execution_count": 57,
   "id": "2777ee12",
   "metadata": {},
   "outputs": [
    {
     "name": "stdout",
     "output_type": "stream",
     "text": [
      "const     3.231772\n",
      "TV       12.436614\n",
      "Radio     9.986861\n",
      "dtype: float64\n"
     ]
    }
   ],
   "source": [
    "#checking parameters\n",
    "print(lr2.params)"
   ]
  },
  {
   "cell_type": "code",
   "execution_count": 58,
   "id": "4d5e0087",
   "metadata": {},
   "outputs": [],
   "source": [
    "# so now variation of y is dependent on this formula: \n",
    "\n",
    "#       y = 3.231772 + 12.436614 * TV + 9.986861* Radio"
   ]
  },
  {
   "cell_type": "code",
   "execution_count": 59,
   "id": "5b568359",
   "metadata": {},
   "outputs": [
    {
     "name": "stdout",
     "output_type": "stream",
     "text": [
      "                            OLS Regression Results                            \n",
      "==============================================================================\n",
      "Dep. Variable:                      y   R-squared:                       0.905\n",
      "Model:                            OLS   Adj. R-squared:                  0.903\n",
      "Method:                 Least Squares   F-statistic:                     641.4\n",
      "Date:                Mon, 18 Mar 2024   Prob (F-statistic):           1.16e-69\n",
      "Time:                        17:32:18   Log-Likelihood:                -257.93\n",
      "No. Observations:                 138   AIC:                             521.9\n",
      "Df Residuals:                     135   BIC:                             530.6\n",
      "Df Model:                           2                                         \n",
      "Covariance Type:            nonrobust                                         \n",
      "==============================================================================\n",
      "                 coef    std err          t      P>|t|      [0.025      0.975]\n",
      "------------------------------------------------------------------------------\n",
      "const          3.2318      0.333      9.705      0.000       2.573       3.890\n",
      "TV            12.4366      0.449     27.709      0.000      11.549      13.324\n",
      "Radio          9.9869      0.449     22.231      0.000       9.098      10.875\n",
      "==============================================================================\n",
      "Omnibus:                       20.760   Durbin-Watson:                   1.914\n",
      "Prob(Omnibus):                  0.000   Jarque-Bera (JB):               24.888\n",
      "Skew:                          -0.956   Prob(JB):                     3.94e-06\n",
      "Kurtosis:                       3.818   Cond. No.                         4.94\n",
      "==============================================================================\n",
      "\n",
      "Notes:\n",
      "[1] Standard Errors assume that the covariance matrix of the errors is correctly specified.\n"
     ]
    }
   ],
   "source": [
    "# checking the statistical summary of the model \n",
    "print(lr2.summary())"
   ]
  },
  {
   "cell_type": "markdown",
   "id": "1bb82522",
   "metadata": {},
   "source": [
    "- R-squared is now 0.905 which means now it is able to capture almost 90% of the variation in sales. \n",
    "- p-value of the all the features is 0.000 which makes them all significant. \n",
    "- Adjusted R-squared is now 0.891 which is still less than the R-squared. \n",
    "- AIC: 521.9 & BIC: 530.6 which is less than the previous model. \n",
    "- Combined the R squared, Adjusted R squared , AIC and BIC makes this model better than the previous model. \n",
    "- As of now we can say that this model is good for us but as we have added another feature into this model we need to check that does the features have multicollinearity. \n",
    "- To check the multicollinearity we will use the Variation Inflation Factor"
   ]
  },
  {
   "cell_type": "code",
   "execution_count": 60,
   "id": "89c86289",
   "metadata": {},
   "outputs": [
    {
     "data": {
      "text/html": [
       "<div>\n",
       "<style scoped>\n",
       "    .dataframe tbody tr th:only-of-type {\n",
       "        vertical-align: middle;\n",
       "    }\n",
       "\n",
       "    .dataframe tbody tr th {\n",
       "        vertical-align: top;\n",
       "    }\n",
       "\n",
       "    .dataframe thead th {\n",
       "        text-align: right;\n",
       "    }\n",
       "</style>\n",
       "<table border=\"1\" class=\"dataframe\">\n",
       "  <thead>\n",
       "    <tr style=\"text-align: right;\">\n",
       "      <th></th>\n",
       "      <th>Features</th>\n",
       "      <th>VIF</th>\n",
       "    </tr>\n",
       "  </thead>\n",
       "  <tbody>\n",
       "    <tr>\n",
       "      <th>0</th>\n",
       "      <td>const</td>\n",
       "      <td>6.084651</td>\n",
       "    </tr>\n",
       "    <tr>\n",
       "      <th>1</th>\n",
       "      <td>TV</td>\n",
       "      <td>1.000274</td>\n",
       "    </tr>\n",
       "    <tr>\n",
       "      <th>2</th>\n",
       "      <td>Radio</td>\n",
       "      <td>1.000274</td>\n",
       "    </tr>\n",
       "  </tbody>\n",
       "</table>\n",
       "</div>"
      ],
      "text/plain": [
       "  Features       VIF\n",
       "0    const  6.084651\n",
       "1       TV  1.000274\n",
       "2    Radio  1.000274"
      ]
     },
     "execution_count": 60,
     "metadata": {},
     "output_type": "execute_result"
    }
   ],
   "source": [
    "# Checking VIF \n",
    "# creating a dataframe that will contain the names of all the feature varaiable\n",
    "vif = pd.DataFrame()\n",
    "vif['Features'] = X_train_sm1.columns\n",
    "vif['VIF'] = [variance_inflation_factor(X_train_sm1.values, i) for i in range(X_train_sm1.shape[1])]\n",
    "vif"
   ]
  },
  {
   "cell_type": "markdown",
   "id": "b235557e",
   "metadata": {},
   "source": [
    "- VIF values of constant is slighly higher than 5 but its p-value is low.\n",
    "- In Regression higher value of VIF is not a concern in VIF analysis.\n",
    "- This means the other two predictors 'TV' and 'Radio' has multicollinearity with constant. \n",
    "- This model is able to cover almost 90 % of the variation which is good for now. \n",
    "- But for the sake of learning what happens if we drop the Radio and use Newspaper for our model. we will check that."
   ]
  },
  {
   "cell_type": "markdown",
   "id": "8d04eb6c",
   "metadata": {},
   "source": [
    "#### Adding 'Newspaper' & Removing Radio"
   ]
  },
  {
   "cell_type": "code",
   "execution_count": 61,
   "id": "2163ad3a",
   "metadata": {},
   "outputs": [
    {
     "data": {
      "text/html": [
       "<div>\n",
       "<style scoped>\n",
       "    .dataframe tbody tr th:only-of-type {\n",
       "        vertical-align: middle;\n",
       "    }\n",
       "\n",
       "    .dataframe tbody tr th {\n",
       "        vertical-align: top;\n",
       "    }\n",
       "\n",
       "    .dataframe thead th {\n",
       "        text-align: right;\n",
       "    }\n",
       "</style>\n",
       "<table border=\"1\" class=\"dataframe\">\n",
       "  <thead>\n",
       "    <tr style=\"text-align: right;\">\n",
       "      <th></th>\n",
       "      <th>const</th>\n",
       "      <th>TV</th>\n",
       "      <th>Newspaper</th>\n",
       "    </tr>\n",
       "  </thead>\n",
       "  <tbody>\n",
       "    <tr>\n",
       "      <th>0</th>\n",
       "      <td>1.0</td>\n",
       "      <td>0.033874</td>\n",
       "      <td>1.000000</td>\n",
       "    </tr>\n",
       "    <tr>\n",
       "      <th>1</th>\n",
       "      <td>1.0</td>\n",
       "      <td>0.508821</td>\n",
       "      <td>0.650452</td>\n",
       "    </tr>\n",
       "    <tr>\n",
       "      <th>2</th>\n",
       "      <td>1.0</td>\n",
       "      <td>0.697601</td>\n",
       "      <td>0.210407</td>\n",
       "    </tr>\n",
       "    <tr>\n",
       "      <th>3</th>\n",
       "      <td>1.0</td>\n",
       "      <td>0.821454</td>\n",
       "      <td>0.247738</td>\n",
       "    </tr>\n",
       "    <tr>\n",
       "      <th>4</th>\n",
       "      <td>1.0</td>\n",
       "      <td>0.075159</td>\n",
       "      <td>0.361991</td>\n",
       "    </tr>\n",
       "  </tbody>\n",
       "</table>\n",
       "</div>"
      ],
      "text/plain": [
       "   const        TV  Newspaper\n",
       "0    1.0  0.033874   1.000000\n",
       "1    1.0  0.508821   0.650452\n",
       "2    1.0  0.697601   0.210407\n",
       "3    1.0  0.821454   0.247738\n",
       "4    1.0  0.075159   0.361991"
      ]
     },
     "execution_count": 61,
     "metadata": {},
     "output_type": "execute_result"
    }
   ],
   "source": [
    "X_train_sm2 = X_train_scaled[['TV', 'Newspaper']]\n",
    "\n",
    "#adding constant\n",
    "X_train_sm2 = sm.add_constant(X_train_sm2)\n",
    "\n",
    "X_train_sm2.head()"
   ]
  },
  {
   "cell_type": "code",
   "execution_count": 62,
   "id": "20eb6c2c",
   "metadata": {},
   "outputs": [
    {
     "name": "stdout",
     "output_type": "stream",
     "text": [
      "const         5.918079\n",
      "TV           12.742105\n",
      "Newspaper     4.792309\n",
      "dtype: float64\n"
     ]
    }
   ],
   "source": [
    "# fitting the model and checking the parameters\n",
    "\n",
    "# fitting the model \n",
    "lr3 = sm.OLS(y_train, X_train_sm2).fit()\n",
    "\n",
    "# checking the parameters\n",
    "print(lr3.params)"
   ]
  },
  {
   "cell_type": "code",
   "execution_count": 63,
   "id": "78686937",
   "metadata": {},
   "outputs": [],
   "source": [
    "# so now variation of y is dependent on this formula: \n",
    "\n",
    "#       y = 5.507818 + 13.317198 * TV + 6.313767* Radio"
   ]
  },
  {
   "cell_type": "code",
   "execution_count": 64,
   "id": "9608982f",
   "metadata": {},
   "outputs": [
    {
     "name": "stdout",
     "output_type": "stream",
     "text": [
      "                            OLS Regression Results                            \n",
      "==============================================================================\n",
      "Dep. Variable:                      y   R-squared:                       0.605\n",
      "Model:                            OLS   Adj. R-squared:                  0.599\n",
      "Method:                 Least Squares   F-statistic:                     103.2\n",
      "Date:                Mon, 18 Mar 2024   Prob (F-statistic):           6.24e-28\n",
      "Time:                        17:32:25   Log-Likelihood:                -356.15\n",
      "No. Observations:                 138   AIC:                             718.3\n",
      "Df Residuals:                     135   BIC:                             727.1\n",
      "Df Model:                           2                                         \n",
      "Covariance Type:            nonrobust                                         \n",
      "==============================================================================\n",
      "                 coef    std err          t      P>|t|      [0.025      0.975]\n",
      "------------------------------------------------------------------------------\n",
      "const          5.9181      0.693      8.545      0.000       4.548       7.288\n",
      "TV            12.7421      0.915     13.925      0.000      10.932      14.552\n",
      "Newspaper      4.7923      1.178      4.069      0.000       2.463       7.122\n",
      "==============================================================================\n",
      "Omnibus:                        0.066   Durbin-Watson:                   1.851\n",
      "Prob(Omnibus):                  0.968   Jarque-Bera (JB):                0.032\n",
      "Skew:                          -0.033   Prob(JB):                        0.984\n",
      "Kurtosis:                       2.966   Cond. No.                         5.59\n",
      "==============================================================================\n",
      "\n",
      "Notes:\n",
      "[1] Standard Errors assume that the covariance matrix of the errors is correctly specified.\n"
     ]
    }
   ],
   "source": [
    "# now we will check the statistical summary of the model \n",
    "print(lr3.summary())"
   ]
  },
  {
   "cell_type": "markdown",
   "id": "5cfc807f",
   "metadata": {},
   "source": [
    "- R-squared is now 0.605 which means now it is able to capture almost 60% of the variation in sales. \n",
    "- p-value of the all the features is 0.000 which makes them all significant. \n",
    "- Adjusted R-squared is now 0.660 which is still less than the R-squared. \n",
    "- AIC: 718.3 & BIC: 727.1 which is higher than the previous model. \n",
    "- Combined the R squared, Adjusted R squared , AIC and BIC makes the previous model better than the this model. \n",
    "- As of now we can say that previous model is good for us but as we have added another feature into this model we need to check that does the features have multicollinearity. \n",
    "- To check the multicollinearity we will use the Variation Inflation Factor"
   ]
  },
  {
   "cell_type": "code",
   "execution_count": 65,
   "id": "0aaa8aa0",
   "metadata": {},
   "outputs": [
    {
     "data": {
      "text/html": [
       "<div>\n",
       "<style scoped>\n",
       "    .dataframe tbody tr th:only-of-type {\n",
       "        vertical-align: middle;\n",
       "    }\n",
       "\n",
       "    .dataframe tbody tr th {\n",
       "        vertical-align: top;\n",
       "    }\n",
       "\n",
       "    .dataframe thead th {\n",
       "        text-align: right;\n",
       "    }\n",
       "</style>\n",
       "<table border=\"1\" class=\"dataframe\">\n",
       "  <thead>\n",
       "    <tr style=\"text-align: right;\">\n",
       "      <th></th>\n",
       "      <th>Features</th>\n",
       "      <th>VIF</th>\n",
       "    </tr>\n",
       "  </thead>\n",
       "  <tbody>\n",
       "    <tr>\n",
       "      <th>0</th>\n",
       "      <td>const</td>\n",
       "      <td>6.339442</td>\n",
       "    </tr>\n",
       "    <tr>\n",
       "      <th>1</th>\n",
       "      <td>TV</td>\n",
       "      <td>1.001421</td>\n",
       "    </tr>\n",
       "    <tr>\n",
       "      <th>2</th>\n",
       "      <td>Newspaper</td>\n",
       "      <td>1.001421</td>\n",
       "    </tr>\n",
       "  </tbody>\n",
       "</table>\n",
       "</div>"
      ],
      "text/plain": [
       "    Features       VIF\n",
       "0      const  6.339442\n",
       "1         TV  1.001421\n",
       "2  Newspaper  1.001421"
      ]
     },
     "execution_count": 65,
     "metadata": {},
     "output_type": "execute_result"
    }
   ],
   "source": [
    "vif = pd.DataFrame()\n",
    "vif['Features'] = X_train_sm2.columns\n",
    "vif['VIF'] = [variance_inflation_factor(X_train_sm2.values, i) for i in range(X_train_sm2.shape[1])]\n",
    "vif"
   ]
  },
  {
   "cell_type": "markdown",
   "id": "71bec206",
   "metadata": {},
   "source": [
    "####  Dropping TV and Adding 'Radio' to the model "
   ]
  },
  {
   "cell_type": "code",
   "execution_count": 66,
   "id": "bb89954d",
   "metadata": {},
   "outputs": [
    {
     "data": {
      "text/html": [
       "<div>\n",
       "<style scoped>\n",
       "    .dataframe tbody tr th:only-of-type {\n",
       "        vertical-align: middle;\n",
       "    }\n",
       "\n",
       "    .dataframe tbody tr th {\n",
       "        vertical-align: top;\n",
       "    }\n",
       "\n",
       "    .dataframe thead th {\n",
       "        text-align: right;\n",
       "    }\n",
       "</style>\n",
       "<table border=\"1\" class=\"dataframe\">\n",
       "  <thead>\n",
       "    <tr style=\"text-align: right;\">\n",
       "      <th></th>\n",
       "      <th>const</th>\n",
       "      <th>Radio</th>\n",
       "      <th>Newspaper</th>\n",
       "    </tr>\n",
       "  </thead>\n",
       "  <tbody>\n",
       "    <tr>\n",
       "      <th>0</th>\n",
       "      <td>1.0</td>\n",
       "      <td>0.880325</td>\n",
       "      <td>1.000000</td>\n",
       "    </tr>\n",
       "    <tr>\n",
       "      <th>1</th>\n",
       "      <td>1.0</td>\n",
       "      <td>0.831643</td>\n",
       "      <td>0.650452</td>\n",
       "    </tr>\n",
       "    <tr>\n",
       "      <th>2</th>\n",
       "      <td>1.0</td>\n",
       "      <td>0.908722</td>\n",
       "      <td>0.210407</td>\n",
       "    </tr>\n",
       "    <tr>\n",
       "      <th>3</th>\n",
       "      <td>1.0</td>\n",
       "      <td>0.332657</td>\n",
       "      <td>0.247738</td>\n",
       "    </tr>\n",
       "    <tr>\n",
       "      <th>4</th>\n",
       "      <td>1.0</td>\n",
       "      <td>0.024341</td>\n",
       "      <td>0.361991</td>\n",
       "    </tr>\n",
       "  </tbody>\n",
       "</table>\n",
       "</div>"
      ],
      "text/plain": [
       "   const     Radio  Newspaper\n",
       "0    1.0  0.880325   1.000000\n",
       "1    1.0  0.831643   0.650452\n",
       "2    1.0  0.908722   0.210407\n",
       "3    1.0  0.332657   0.247738\n",
       "4    1.0  0.024341   0.361991"
      ]
     },
     "execution_count": 66,
     "metadata": {},
     "output_type": "execute_result"
    }
   ],
   "source": [
    "X_train_sm3 = X_train_scaled[['Radio', 'Newspaper']]\n",
    "\n",
    "# adding constant\n",
    "X_train_sm3 = sm.add_constant(X_train_sm3)\n",
    "\n",
    "X_train_sm3.head()"
   ]
  },
  {
   "cell_type": "code",
   "execution_count": 67,
   "id": "1f35db1e",
   "metadata": {},
   "outputs": [
    {
     "name": "stdout",
     "output_type": "stream",
     "text": [
      "                            OLS Regression Results                            \n",
      "==============================================================================\n",
      "Dep. Variable:                      y   R-squared:                       0.369\n",
      "Model:                            OLS   Adj. R-squared:                  0.359\n",
      "Method:                 Least Squares   F-statistic:                     39.41\n",
      "Date:                Mon, 18 Mar 2024   Prob (F-statistic):           3.31e-14\n",
      "Time:                        17:32:27   Log-Likelihood:                -388.46\n",
      "No. Observations:                 138   AIC:                             782.9\n",
      "Df Residuals:                     135   BIC:                             791.7\n",
      "Df Model:                           2                                         \n",
      "Covariance Type:            nonrobust                                         \n",
      "==============================================================================\n",
      "                 coef    std err          t      P>|t|      [0.025      0.975]\n",
      "------------------------------------------------------------------------------\n",
      "const          9.8627      0.708     13.922      0.000       8.462      11.264\n",
      "Radio         10.7807      1.280      8.422      0.000       8.249      13.312\n",
      "Newspaper     -1.7643      1.646     -1.072      0.286      -5.020       1.491\n",
      "==============================================================================\n",
      "Omnibus:                       10.385   Durbin-Watson:                   1.733\n",
      "Prob(Omnibus):                  0.006   Jarque-Bera (JB):               10.750\n",
      "Skew:                          -0.676   Prob(JB):                      0.00463\n",
      "Kurtosis:                       3.203   Cond. No.                         6.04\n",
      "==============================================================================\n",
      "\n",
      "Notes:\n",
      "[1] Standard Errors assume that the covariance matrix of the errors is correctly specified.\n"
     ]
    }
   ],
   "source": [
    "# fitting the model and then we will check the statistical summary\n",
    "\n",
    "lr4 = sm.OLS(y_train, X_train_sm3).fit()\n",
    "\n",
    "print(lr4.summary())"
   ]
  },
  {
   "cell_type": "markdown",
   "id": "37ef1422",
   "metadata": {},
   "source": [
    "- R-squared is now 0.314 which means now it is able to capture almost 31% of the variation in sales. \n",
    "- p-value of Newspaper is 0.172 which makes it insignificant. \n",
    "- Adjusted R-squared is now 0.304 which is still less than the R-squared. \n",
    "- AIC: 827.5 & BIC: 836.3 which is higer than all the previous models. \n",
    "- Combined the R squared, Adjusted R squared , AIC and BIC makes this model worst than all the previous models. \n",
    "- As of now we can say that this model is not good at all but as we have added another feature into this model we need to check that does the features have multicollinearity. \n",
    "- To check the multicollinearity we will use the Variation Inflation Factor"
   ]
  },
  {
   "cell_type": "code",
   "execution_count": 68,
   "id": "9ec6dddf",
   "metadata": {},
   "outputs": [
    {
     "data": {
      "text/html": [
       "<div>\n",
       "<style scoped>\n",
       "    .dataframe tbody tr th:only-of-type {\n",
       "        vertical-align: middle;\n",
       "    }\n",
       "\n",
       "    .dataframe tbody tr th {\n",
       "        vertical-align: top;\n",
       "    }\n",
       "\n",
       "    .dataframe thead th {\n",
       "        text-align: right;\n",
       "    }\n",
       "</style>\n",
       "<table border=\"1\" class=\"dataframe\">\n",
       "  <thead>\n",
       "    <tr style=\"text-align: right;\">\n",
       "      <th></th>\n",
       "      <th>Features</th>\n",
       "      <th>VIF</th>\n",
       "    </tr>\n",
       "  </thead>\n",
       "  <tbody>\n",
       "    <tr>\n",
       "      <th>0</th>\n",
       "      <td>const</td>\n",
       "      <td>4.152991</td>\n",
       "    </tr>\n",
       "    <tr>\n",
       "      <th>1</th>\n",
       "      <td>Radio</td>\n",
       "      <td>1.224709</td>\n",
       "    </tr>\n",
       "    <tr>\n",
       "      <th>2</th>\n",
       "      <td>Newspaper</td>\n",
       "      <td>1.224709</td>\n",
       "    </tr>\n",
       "  </tbody>\n",
       "</table>\n",
       "</div>"
      ],
      "text/plain": [
       "    Features       VIF\n",
       "0      const  4.152991\n",
       "1      Radio  1.224709\n",
       "2  Newspaper  1.224709"
      ]
     },
     "execution_count": 68,
     "metadata": {},
     "output_type": "execute_result"
    }
   ],
   "source": [
    "vif = pd.DataFrame()\n",
    "vif['Features'] = X_train_sm3.columns\n",
    "vif['VIF'] = [variance_inflation_factor(X_train_sm3.values, i) for i in range(X_train_sm3.shape[1])]\n",
    "vif"
   ]
  },
  {
   "cell_type": "markdown",
   "id": "b80cd3ea",
   "metadata": {},
   "source": [
    "##### So our final selected model is Second Model. \n",
    "\n",
    "- y = y = 2.750913 + 13.464120 * TV + 9.547414* Radio\n",
    "- Based on the R-Squared , Adjusted R-Squared, p-values of the features, AIC and BIC, this model is performing better than the others. \n",
    "- Now we will perform Residual Analysis"
   ]
  },
  {
   "cell_type": "markdown",
   "id": "9e97f261",
   "metadata": {},
   "source": [
    "### Residual Analysis of the Train Data"
   ]
  },
  {
   "cell_type": "code",
   "execution_count": 69,
   "id": "873e94f0",
   "metadata": {
    "scrolled": true
   },
   "outputs": [],
   "source": [
    "y_train_sales = lr2.predict(X_train_sm1)"
   ]
  },
  {
   "cell_type": "code",
   "execution_count": 70,
   "id": "48fd9ac8",
   "metadata": {},
   "outputs": [
    {
     "data": {
      "text/plain": [
       "Text(0.5, 0, 'Errors')"
      ]
     },
     "execution_count": 70,
     "metadata": {},
     "output_type": "execute_result"
    },
    {
     "data": {
      "image/png": "[encoded data removed]",
      "text/plain": [
       "<Figure size 640x480 with 1 Axes>"
      ]
     },
     "metadata": {},
     "output_type": "display_data"
    }
   ],
   "source": [
    "# checking the distribution of the error terms\n",
    "fig = plt.figure()\n",
    "sns.distplot((y_train - y_train_sales), bins = 20)\n",
    "fig.suptitle('Error Terms', fontsize = 20)                  # Plot heading \n",
    "plt.xlabel('Errors', fontsize = 18)      "
   ]
  },
  {
   "cell_type": "markdown",
   "id": "71b6bdb7",
   "metadata": {},
   "source": [
    "- we can see here that that there is a distribution which is almost a bell curve. \n",
    "- the distribution has mean = 0. \n",
    "- for further analysis of error terms we will plot a QQ plot. "
   ]
  },
  {
   "cell_type": "code",
   "execution_count": 71,
   "id": "d6873be9",
   "metadata": {},
   "outputs": [
    {
     "data": {
      "image/png": "[encoded data removed]",
      "text/plain": [
       "<Figure size 640x480 with 1 Axes>"
      ]
     },
     "metadata": {},
     "output_type": "display_data"
    }
   ],
   "source": [
    "# homoscedasticity check \n",
    "predicted_values = lr2.fittedvalues\n",
    "\n",
    "# Scatter plot of predicted values vs residuals\n",
    "plt.scatter(predicted_values, (y_train - y_train_sales))\n",
    "plt.title('Residuals vs Fitted')\n",
    "plt.xlabel('Predicted Values')\n",
    "plt.ylabel('Residuals')\n",
    "plt.axhline(y=0, color='r', linestyle='--')\n",
    "plt.show()\n"
   ]
  },
  {
   "cell_type": "markdown",
   "id": "ace458cd",
   "metadata": {},
   "source": [
    "- There is no visible pattern. "
   ]
  },
  {
   "cell_type": "code",
   "execution_count": 77,
   "id": "863440aa",
   "metadata": {},
   "outputs": [
    {
     "name": "stdout",
     "output_type": "stream",
     "text": [
      "Durbin-Watson statistic: 1.9144604136157048\n"
     ]
    }
   ],
   "source": [
    "# checking independence on residuals\n",
    "\n",
    "from statsmodels.stats.stattools import durbin_watson\n",
    "\n",
    "# Assuming `residuals` are from your model\n",
    "dw_stat = durbin_watson((y_train - y_train_sales))\n",
    "print(f'Durbin-Watson statistic: {dw_stat}')\n"
   ]
  },
  {
   "cell_type": "markdown",
   "id": "eb8cd52e",
   "metadata": {},
   "source": [
    "- A Durbin-Watson statistic close to 2 suggests that there is no autocorrelation. A value towards 0 indicates positive autocorrelation, and a value towards 4 indicates negative autocorrelation."
   ]
  },
  {
   "cell_type": "markdown",
   "id": "cd66a3c2",
   "metadata": {},
   "source": [
    "### Making Predictions Using the Final Model"
   ]
  },
  {
   "cell_type": "code",
   "execution_count": 46,
   "id": "af62cb45",
   "metadata": {},
   "outputs": [],
   "source": [
    "# scaling the test sets \n",
    "X_test_scaled = pd.DataFrame(scaler.transform(X_test), columns= X_test.columns)"
   ]
  },
  {
   "cell_type": "code",
   "execution_count": 47,
   "id": "c74469d5",
   "metadata": {},
   "outputs": [
    {
     "data": {
      "text/html": [
       "<div>\n",
       "<style scoped>\n",
       "    .dataframe tbody tr th:only-of-type {\n",
       "        vertical-align: middle;\n",
       "    }\n",
       "\n",
       "    .dataframe tbody tr th {\n",
       "        vertical-align: top;\n",
       "    }\n",
       "\n",
       "    .dataframe thead th {\n",
       "        text-align: right;\n",
       "    }\n",
       "</style>\n",
       "<table border=\"1\" class=\"dataframe\">\n",
       "  <thead>\n",
       "    <tr style=\"text-align: right;\">\n",
       "      <th></th>\n",
       "      <th>TV</th>\n",
       "      <th>Radio</th>\n",
       "      <th>Newspaper</th>\n",
       "    </tr>\n",
       "  </thead>\n",
       "  <tbody>\n",
       "    <tr>\n",
       "      <th>count</th>\n",
       "      <td>60.000000</td>\n",
       "      <td>60.000000</td>\n",
       "      <td>60.000000</td>\n",
       "    </tr>\n",
       "    <tr>\n",
       "      <th>mean</th>\n",
       "      <td>0.444419</td>\n",
       "      <td>0.487694</td>\n",
       "      <td>0.270249</td>\n",
       "    </tr>\n",
       "    <tr>\n",
       "      <th>std</th>\n",
       "      <td>0.297624</td>\n",
       "      <td>0.302144</td>\n",
       "      <td>0.215466</td>\n",
       "    </tr>\n",
       "    <tr>\n",
       "      <th>min</th>\n",
       "      <td>-0.023289</td>\n",
       "      <td>-0.006085</td>\n",
       "      <td>-0.007919</td>\n",
       "    </tr>\n",
       "    <tr>\n",
       "      <th>25%</th>\n",
       "      <td>0.159933</td>\n",
       "      <td>0.226166</td>\n",
       "      <td>0.093609</td>\n",
       "    </tr>\n",
       "    <tr>\n",
       "      <th>50%</th>\n",
       "      <td>0.470713</td>\n",
       "      <td>0.476673</td>\n",
       "      <td>0.214367</td>\n",
       "    </tr>\n",
       "    <tr>\n",
       "      <th>75%</th>\n",
       "      <td>0.683574</td>\n",
       "      <td>0.783469</td>\n",
       "      <td>0.417986</td>\n",
       "    </tr>\n",
       "    <tr>\n",
       "      <th>max</th>\n",
       "      <td>1.010233</td>\n",
       "      <td>0.987830</td>\n",
       "      <td>0.884615</td>\n",
       "    </tr>\n",
       "  </tbody>\n",
       "</table>\n",
       "</div>"
      ],
      "text/plain": [
       "              TV      Radio  Newspaper\n",
       "count  60.000000  60.000000  60.000000\n",
       "mean    0.444419   0.487694   0.270249\n",
       "std     0.297624   0.302144   0.215466\n",
       "min    -0.023289  -0.006085  -0.007919\n",
       "25%     0.159933   0.226166   0.093609\n",
       "50%     0.470713   0.476673   0.214367\n",
       "75%     0.683574   0.783469   0.417986\n",
       "max     1.010233   0.987830   0.884615"
      ]
     },
     "execution_count": 47,
     "metadata": {},
     "output_type": "execute_result"
    }
   ],
   "source": [
    "X_test_scaled.describe()"
   ]
  },
  {
   "cell_type": "code",
   "execution_count": 48,
   "id": "69dc18ce",
   "metadata": {},
   "outputs": [],
   "source": [
    "# adding constant to the test dataframe\n",
    "X_test_sm = sm.add_constant(X_test_scaled)"
   ]
  },
  {
   "cell_type": "code",
   "execution_count": 49,
   "id": "eaebea4d",
   "metadata": {},
   "outputs": [
    {
     "data": {
      "text/html": [
       "<div>\n",
       "<style scoped>\n",
       "    .dataframe tbody tr th:only-of-type {\n",
       "        vertical-align: middle;\n",
       "    }\n",
       "\n",
       "    .dataframe tbody tr th {\n",
       "        vertical-align: top;\n",
       "    }\n",
       "\n",
       "    .dataframe thead th {\n",
       "        text-align: right;\n",
       "    }\n",
       "</style>\n",
       "<table border=\"1\" class=\"dataframe\">\n",
       "  <thead>\n",
       "    <tr style=\"text-align: right;\">\n",
       "      <th></th>\n",
       "      <th>const</th>\n",
       "      <th>TV</th>\n",
       "      <th>Radio</th>\n",
       "    </tr>\n",
       "  </thead>\n",
       "  <tbody>\n",
       "    <tr>\n",
       "      <th>0</th>\n",
       "      <td>1.0</td>\n",
       "      <td>0.751588</td>\n",
       "      <td>0.987830</td>\n",
       "    </tr>\n",
       "    <tr>\n",
       "      <th>1</th>\n",
       "      <td>1.0</td>\n",
       "      <td>0.062456</td>\n",
       "      <td>0.217039</td>\n",
       "    </tr>\n",
       "    <tr>\n",
       "      <th>2</th>\n",
       "      <td>1.0</td>\n",
       "      <td>0.758998</td>\n",
       "      <td>0.081136</td>\n",
       "    </tr>\n",
       "    <tr>\n",
       "      <th>3</th>\n",
       "      <td>1.0</td>\n",
       "      <td>0.859562</td>\n",
       "      <td>0.734280</td>\n",
       "    </tr>\n",
       "    <tr>\n",
       "      <th>4</th>\n",
       "      <td>1.0</td>\n",
       "      <td>0.713832</td>\n",
       "      <td>0.411765</td>\n",
       "    </tr>\n",
       "  </tbody>\n",
       "</table>\n",
       "</div>"
      ],
      "text/plain": [
       "   const        TV     Radio\n",
       "0    1.0  0.751588  0.987830\n",
       "1    1.0  0.062456  0.217039\n",
       "2    1.0  0.758998  0.081136\n",
       "3    1.0  0.859562  0.734280\n",
       "4    1.0  0.713832  0.411765"
      ]
     },
     "execution_count": 49,
     "metadata": {},
     "output_type": "execute_result"
    }
   ],
   "source": [
    "# dropping the newspaper as there is no newspapaer in our model \n",
    "X_test_final = X_test_sm.drop('Newspaper', axis = 1)\n",
    "X_test_final.head()"
   ]
  },
  {
   "cell_type": "code",
   "execution_count": 50,
   "id": "095aa8dd",
   "metadata": {},
   "outputs": [],
   "source": [
    "# Making predictions using the second model \n",
    "y_pred_final = lr2.predict(X_test_final)"
   ]
  },
  {
   "cell_type": "markdown",
   "id": "14d7d57e",
   "metadata": {},
   "source": [
    "### Model Evaluation"
   ]
  },
  {
   "cell_type": "code",
   "execution_count": 51,
   "id": "3c0a4bf1",
   "metadata": {},
   "outputs": [
    {
     "data": {
      "image/png": "[encoded data removed]",
      "text/plain": [
       "<Figure size 640x480 with 1 Axes>"
      ]
     },
     "metadata": {},
     "output_type": "display_data"
    }
   ],
   "source": [
    "# plotting y_test vs y_test to understand the spread\n",
    "plt.scatter(y_test, y_pred_final)\n",
    "plt.title('y_test vs y_pred_final')\n",
    "plt.xlabel('y_test')\n",
    "plt.ylabel('y_pred_final')\n",
    "plt.show()"
   ]
  },
  {
   "cell_type": "markdown",
   "id": "7b30f188",
   "metadata": {},
   "source": [
    "#####  The equation of our best fit line is : y =3.231772 + 12.436614 * TV + 9.986861* Radio"
   ]
  },
  {
   "cell_type": "markdown",
   "id": "c7253d8f",
   "metadata": {},
   "source": [
    "##  Final Observation\n",
    "\n",
    "Final Verdict:\n",
    "\n",
    "After a thorough analysis of the advertising dataset, which included exploratory data analysis, preprocessing, and model building, the following key observations were made:\n",
    "\n",
    "1. The linear regression model, incorporating TV and Radio advertisement spends as predictors, emerged as the most effective in predicting sales. This model accounted for approximately 90% of the variance in sales, as indicated by an R-squared value of 0.905, demonstrating a strong fit.\n",
    "\n",
    "2. The TV advertisement spends were identified as the most significant contributor to sales, followed by Radio. The inclusion of Newspaper spends did not significantly improve the model's predictive capability and was therefore excluded from the final model.\n",
    "\n",
    "3. The final model formula based on our analysis is: Sales = 3.231772 + 12.436614 * TV + 9.986861 * Radio. This equation underscores the importance of optimizing TV and Radio advertising budgets to maximize sales.\n",
    "\n",
    "Recommendations for Future Work:\n",
    "To further refine the sales prediction model and enhance its predictive accuracy, the following steps are recommended:\n",
    "\n",
    "- Exploring non-linear models or interaction effects between predictors to capture more complex relationships between advertising spends and sales.\n",
    "- Conducting cross-validation to assess the model's generalizability and prevent overfitting.\n",
    "- Investigating the potential of advanced machine learning techniques, such as random forest or gradient boosting methods, for improved prediction accuracy.\n",
    "\n",
    "In conclusion, this project underscores the critical role of targeted advertising spends in driving sales, with TV and Radio emerging as key channels. By continuing to refine our model and explore new methodologies, we can further optimize advertising budgets for maximum sales impact.\n",
    "\n"
   ]
  },
  {
   "cell_type": "markdown",
   "id": "341c966a",
   "metadata": {},
   "source": [
    "- To achieve an increase of 1 crore (100 lakhs) in sales:\n",
    "\n",
    "    - TV Advertisement Spends: An increase of approximately ₹80.41 lakhs in TV advertisement spends is required.\n",
    "    - Radio Advertisement Spends: An increase of approximately ₹100.13 lakhs in Radio advertisement spends is needed."
   ]
  },
  {
   "cell_type": "code",
   "execution_count": null,
   "id": "6cd0c354",
   "metadata": {},
   "outputs": [],
   "source": []
  }
 ],
 "metadata": {
  "kernelspec": {
   "display_name": "Python 3 (ipykernel)",
   "language": "python",
   "name": "python3"
  },
  "language_info": {
   "codemirror_mode": {
    "name": "ipython",
    "version": 3
   },
   "file_extension": ".py",
   "mimetype": "text/x-python",
   "name": "python",
   "nbconvert_exporter": "python",
   "pygments_lexer": "ipython3",
   "version": "3.9.7"
  }
 },
 "nbformat": 4,
 "nbformat_minor": 5
}
